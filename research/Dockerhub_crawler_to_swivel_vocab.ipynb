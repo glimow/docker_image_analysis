{
 "cells": [
  {
   "cell_type": "markdown",
   "metadata": {},
   "source": [
    "# Creating lib vocabulary from dockerhub dataset\n",
    "\n",
    "This notebook was primarly used to convert the JSON files from the docker analysis script into a format that is readable by swivel's prep scripts (`prep.py` and `fastprep`). \n",
    "\n",
    "It expects a `package` folder to be present in the same directory. This folder should contain the images json files as output by the `dockerhub-crawler` script.\n",
    "\n",
    "Running this notebooks outputs a file `libraries.txt` containing the library vocab for use with swivel."
   ]
  },
  {
   "cell_type": "code",
   "execution_count": 1,
   "metadata": {},
   "outputs": [
    {
     "data": {
      "text/plain": [
       "'packages/bp/bpedroso/medium-cicd-buzz.json'"
      ]
     },
     "execution_count": 1,
     "metadata": {},
     "output_type": "execute_result"
    }
   ],
   "source": [
    "import json\n",
    "!rm libraries.txt\n",
    "packages_list = !find packages -type f\n",
    "packages_list[0]"
   ]
  },
  {
   "cell_type": "code",
   "execution_count": 2,
   "metadata": {},
   "outputs": [],
   "source": [
    "def get_images_libraries():\n",
    "    for path in packages_list:\n",
    "        with open(path) as json_file:\n",
    "            try:\n",
    "                package = json.load(json_file)\n",
    "                libs = []\n",
    "                libs += [natpack[0] for natpack in package[\"packages\"][\"native\"]]\n",
    "                libs += [natpack[0] for natpack in package[\"packages\"][\"python3\"]]            \n",
    "                libs += [natpack[0] for natpack in package[\"packages\"][\"node\"]]\n",
    "                yield libs\n",
    "            except Exception as e:\n",
    "                print(e)\n",
    "                pass"
   ]
  },
  {
   "cell_type": "code",
   "execution_count": 3,
   "metadata": {},
   "outputs": [
    {
     "name": "stderr",
     "output_type": "stream",
     "text": [
      "48776it [00:55, 704.91it/s] "
     ]
    },
    {
     "name": "stdout",
     "output_type": "stream",
     "text": [
      "Expecting value: line 1 column 1 (char 0)\n"
     ]
    },
    {
     "name": "stderr",
     "output_type": "stream",
     "text": [
      "72820it [01:26, 837.31it/s] \n"
     ]
    }
   ],
   "source": [
    "import random\n",
    "from tqdm import tqdm\n",
    "with open('libraries.txt', 'w') as f:\n",
    "    for image_libs in tqdm(get_images_libraries()):\n",
    "        random.shuffle(image_libs)\n",
    "        f.write(\" \".join(image_libs)+\"\\n\")\n"
   ]
  },
  {
   "cell_type": "code",
   "execution_count": 4,
   "metadata": {},
   "outputs": [
    {
     "name": "stdout",
     "output_type": "stream",
     "text": [
      "['', 'libqgis-analysis2.14.22', 'frei0r-plugins', 'perl-image-exiftool', 'tryton-modules-account-stock-landed-cost-weight', 'geoip-country-only', 'openjdk-6-jre-headless:amd64', 'libraw1394-dev', 'libwinpr-environment0.', 'rba-util']\n"
     ]
    }
   ],
   "source": [
    "vocab = set()\n",
    "with open('libraries.txt', 'r') as f:\n",
    "    data = f.readline()\n",
    "    while data:\n",
    "        new_libs  = set(data[:-2].split(' '))\n",
    "        vocab |= new_libs\n",
    "        data = f.readline()\n",
    "vocab = list(vocab)\n",
    "print(vocab[:10])\n",
    "vocsize = len(vocab)"
   ]
  },
  {
   "cell_type": "code",
   "execution_count": null,
   "metadata": {},
   "outputs": [],
   "source": []
  }
 ],
 "metadata": {
  "kernelspec": {
   "display_name": "Python 3",
   "language": "python",
   "name": "python3"
  },
  "language_info": {
   "codemirror_mode": {
    "name": "ipython",
    "version": 3
   },
   "file_extension": ".py",
   "mimetype": "text/x-python",
   "name": "python",
   "nbconvert_exporter": "python",
   "pygments_lexer": "ipython3",
   "version": "3.6.3"
  }
 },
 "nbformat": 4,
 "nbformat_minor": 2
}
